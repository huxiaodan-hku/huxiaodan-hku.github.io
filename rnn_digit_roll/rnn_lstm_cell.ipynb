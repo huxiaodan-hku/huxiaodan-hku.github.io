{
 "cells": [
  {
   "cell_type": "code",
   "execution_count": 1,
   "metadata": {},
   "outputs": [],
   "source": [
    "from __future__ import print_function, division\n",
    "import numpy as np\n",
    "import tensorflow as tf"
   ]
  },
  {
   "cell_type": "markdown",
   "metadata": {},
   "source": [
    "# 定义参数"
   ]
  },
  {
   "cell_type": "code",
   "execution_count": 2,
   "metadata": {},
   "outputs": [],
   "source": [
    "num_epochs = 5   #全部数据一共反复训练次数\n",
    "total_series_length = 50000   \n",
    "truncated_backprop_length = 10     #输入X1,x2,...Xn 的长度\n",
    "state_size = 4     #隐藏层大小\n",
    "num_classes = 2     #输出的class ， 本程序只有0,1两种输出\n",
    "echo_step = 3      #输出偏移位数\n",
    "batch_size = 5     #batch_sizs\n",
    "num_batches = total_series_length//batch_size//truncated_backprop_length    #batch 的数量"
   ]
  },
  {
   "cell_type": "markdown",
   "metadata": {},
   "source": [
    "# 生成数据\n",
    "  \n",
    "```\n",
    " inputs_value:          targets_value:\n",
    "[[1 0 0 ..., 1 0 0]   [[0 0 0 ..., 1 1 0]\n",
    " [0 1 1 ..., 0 0 1]    [0 0 0 ..., 1 1 1]\n",
    " [0 1 0 ..., 1 1 1]    [0 0 0 ..., 0 0 0]\n",
    " [1 1 0 ..., 0 0 1]    [0 0 0 ..., 0 0 1]\n",
    " [0 1 1 ..., 1 0 0]]   [0 0 0 ..., 0 0 0]]\n",
    "```"
   ]
  },
  {
   "cell_type": "code",
   "execution_count": 3,
   "metadata": {},
   "outputs": [],
   "source": [
    "inputs_value = np.array(np.random.choice(2, total_series_length, p=[0.5, 0.5]))\n",
    "targets_value = np.roll(inputs_value, echo_step)\n",
    "for i in range(num_batches * batch_size):\n",
    "    targets_value[i * truncated_backprop_length : (i * truncated_backprop_length + echo_step)] = 0\n",
    "\n",
    "inputs_value = inputs_value.reshape((batch_size, -1))  \n",
    "targets_value = targets_value.reshape((batch_size, -1))"
   ]
  },
  {
   "cell_type": "markdown",
   "metadata": {},
   "source": [
    "# 定义模型\n",
    "```\n",
    "rnn_outputs:\n",
    ">>>Tensor(\"rnn/transpose:0\", shape=(5, 10, 4), dtype=float32)\n",
    "tf.reshape(rnn_outputs, [-1, state_size]):\n",
    ">>>Tensor(\"Reshape:0\", shape=(50, 4), dtype=float32)\n",
    "```"
   ]
  },
  {
   "cell_type": "code",
   "execution_count": 4,
   "metadata": {},
   "outputs": [],
   "source": [
    "batchX_placeholder = tf.placeholder(tf.int32, [batch_size, truncated_backprop_length])\n",
    "batchY_placeholder = tf.placeholder(tf.int32, [batch_size, truncated_backprop_length])\n",
    "\n",
    "one_hot_batchX_placeholder = tf.one_hot(batchX_placeholder , num_classes)\n",
    "\n",
    "lstm_cell = tf.contrib.rnn.BasicLSTMCell(state_size,state_is_tuple=True)\n",
    "init_state = lstm_cell.zero_state(batch_size, tf.float32)\n",
    "\n",
    "\n"
   ]
  },
  {
   "cell_type": "code",
   "execution_count": 5,
   "metadata": {},
   "outputs": [],
   "source": [
    "rnn_outputs, final_state = tf.nn.dynamic_rnn(lstm_cell, one_hot_batchX_placeholder, initial_state=init_state)\n",
    "\n",
    "W2 = tf.Variable(np.random.rand(state_size, num_classes),dtype=tf.float32)\n",
    "b2 = tf.Variable(np.zeros((1,num_classes)), dtype=tf.float32)\n",
    "\n",
    "logits = tf.reshape(\n",
    "            tf.matmul(tf.reshape(rnn_outputs, [-1, state_size]), W2) + b2,\n",
    "            [batch_size, truncated_backprop_length, num_classes])\n",
    "\n",
    "losses = tf.nn.sparse_softmax_cross_entropy_with_logits(labels=batchY_placeholder, logits=logits)\n",
    "\n",
    "total_loss = tf.reduce_mean(losses)\n",
    "train_step = tf.train.AdagradOptimizer(0.3).minimize(total_loss)"
   ]
  },
  {
   "cell_type": "markdown",
   "metadata": {},
   "source": [
    "# 训练模型"
   ]
  },
  {
   "cell_type": "code",
   "execution_count": 6,
   "metadata": {},
   "outputs": [
    {
     "name": "stdout",
     "output_type": "stream",
     "text": [
      "WARNING:tensorflow:From D:\\anaconda\\envs\\tensorflow\\lib\\site-packages\\tensorflow\\python\\util\\tf_should_use.py:107: initialize_all_variables (from tensorflow.python.ops.variables) is deprecated and will be removed after 2017-03-02.\n",
      "Instructions for updating:\n",
      "Use `tf.global_variables_initializer` instead.\n",
      "New data, epoch 0\n",
      "Step 0 Batch loss 0.665342\n",
      "Step 100 Batch loss 0.497867\n",
      "Step 200 Batch loss 0.250234\n",
      "Step 300 Batch loss 0.0182744\n",
      "Step 400 Batch loss 0.00721572\n",
      "Step 500 Batch loss 0.00526691\n",
      "Step 600 Batch loss 0.00396986\n",
      "Step 700 Batch loss 0.00424801\n",
      "Step 800 Batch loss 0.00280157\n",
      "Step 900 Batch loss 0.00229275\n",
      "New data, epoch 1\n",
      "Step 0 Batch loss 0.00187406\n",
      "Step 100 Batch loss 0.00195644\n",
      "Step 200 Batch loss 0.00161599\n",
      "Step 300 Batch loss 0.00121237\n",
      "Step 400 Batch loss 0.000907621\n",
      "Step 500 Batch loss 0.00102082\n",
      "Step 600 Batch loss 0.000997168\n",
      "Step 700 Batch loss 0.0012398\n",
      "Step 800 Batch loss 0.000896977\n",
      "Step 900 Batch loss 0.000827482\n",
      "New data, epoch 2\n",
      "Step 0 Batch loss 0.000701873\n",
      "Step 100 Batch loss 0.000871613\n",
      "Step 200 Batch loss 0.000734697\n",
      "Step 300 Batch loss 0.000591609\n",
      "Step 400 Batch loss 0.000459447\n",
      "Step 500 Batch loss 0.000540652\n",
      "Step 600 Batch loss 0.000552141\n",
      "Step 700 Batch loss 0.000716457\n",
      "Step 800 Batch loss 0.000522385\n",
      "Step 900 Batch loss 0.000499511\n",
      "New data, epoch 3\n",
      "Step 0 Batch loss 0.000423569\n",
      "Step 100 Batch loss 0.000555285\n",
      "Step 200 Batch loss 0.000467098\n",
      "Step 300 Batch loss 0.000383811\n",
      "Step 400 Batch loss 0.000306482\n",
      "Step 500 Batch loss 0.000364281\n",
      "Step 600 Batch loss 0.000382478\n",
      "Step 700 Batch loss 0.000499499\n",
      "Step 800 Batch loss 0.00036612\n",
      "Step 900 Batch loss 0.000354999\n",
      "New data, epoch 4\n",
      "Step 0 Batch loss 0.000301927\n",
      "Step 100 Batch loss 0.000404567\n",
      "Step 200 Batch loss 0.000339338\n",
      "Step 300 Batch loss 0.00028178\n",
      "Step 400 Batch loss 0.0002296\n",
      "Step 500 Batch loss 0.000273609\n",
      "Step 600 Batch loss 0.000292192\n",
      "Step 700 Batch loss 0.000381958\n",
      "Step 800 Batch loss 0.000281514\n",
      "Step 900 Batch loss 0.000274644\n"
     ]
    }
   ],
   "source": [
    "with tf.Session() as sess:\n",
    "    sess.run(tf.initialize_all_variables())\n",
    "    loss_list = []\n",
    "\n",
    "    for epoch_idx in range(num_epochs):\n",
    "        _current_cell_state = np.zeros((batch_size, state_size))\n",
    "        _current_hidden_state = np.zeros((batch_size, state_size))\n",
    "\n",
    "        print(\"New data, epoch\", epoch_idx)\n",
    "\n",
    "        for batch_idx in range(num_batches):\n",
    "            start_idx = batch_idx * truncated_backprop_length\n",
    "            end_idx = start_idx + truncated_backprop_length\n",
    "\n",
    "            batchX = inputs_value[:,start_idx:end_idx]\n",
    "            batchY = targets_value[:,start_idx:end_idx]\n",
    "\n",
    "            _total_loss, _train_step = sess.run(\n",
    "                [total_loss, train_step],\n",
    "                feed_dict={\n",
    "                    batchX_placeholder: batchX,\n",
    "                    batchY_placeholder: batchY,\n",
    "                })\n",
    "\n",
    "            loss_list.append(_total_loss)\n",
    "\n",
    "            if batch_idx%100 == 0:\n",
    "                print(\"Step\",batch_idx, \"Batch loss\", _total_loss)"
   ]
  },
  {
   "cell_type": "code",
   "execution_count": null,
   "metadata": {},
   "outputs": [],
   "source": []
  }
 ],
 "metadata": {
  "kernelspec": {
   "display_name": "Python 3",
   "language": "python",
   "name": "python3"
  },
  "language_info": {
   "codemirror_mode": {
    "name": "ipython",
    "version": 3
   },
   "file_extension": ".py",
   "mimetype": "text/x-python",
   "name": "python",
   "nbconvert_exporter": "python",
   "pygments_lexer": "ipython3",
   "version": "3.6.3"
  }
 },
 "nbformat": 4,
 "nbformat_minor": 2
}
